{
 "cells": [
  {
   "cell_type": "code",
   "execution_count": 1,
   "metadata": {},
   "outputs": [],
   "source": [
    "import math\n",
    "import pandas_datareader as web\n",
    "import numpy as np\n",
    "import pandas as pd\n",
    "import matplotlib.pyplot as plt\n",
    "from datetime import datetime, timedelta\n",
    "import urllib.request\n",
    "import re\n",
    "import anvil.mpl_util\n",
    "import sqlite3"
   ]
  },
  {
   "cell_type": "code",
   "execution_count": 2,
   "metadata": {},
   "outputs": [
    {
     "name": "stdout",
     "output_type": "stream",
     "text": [
      "Connecting to wss://anvil.works/uplink\n",
      "Anvil websocket open\n",
      "Connected to \"Default environment (dev)\" as SERVER\n"
     ]
    }
   ],
   "source": [
    "import anvil.server\n",
    "anvil.server.connect(\"L2BCBDUVFH3TVGLN5T6GUD4A-YRRXCIBEM56NA64X\")"
   ]
  },
  {
   "cell_type": "code",
   "execution_count": 12,
   "metadata": {},
   "outputs": [
    {
     "name": "stdout",
     "output_type": "stream",
     "text": [
      "2020\n",
      "SELECT revenue FROM annual_income_statement_bestbuy WHERE year = 2020\n"
     ]
    }
   ],
   "source": [
    "import anvil.media\n",
    "\n",
    "\n",
    "\n",
    "@anvil.server.callable\n",
    "def revenue(stock, year):\n",
    "    print(year)\n",
    "    #create database\n",
    "    connection = sqlite3.connect('stocks.db', check_same_thread=False)\n",
    "    #create cursor instance\n",
    "    c = connection.cursor()\n",
    "    query = \"SELECT revenue FROM annual_income_statement_{0}\".format(stock)\n",
    "    if year == 'All':\n",
    "        c.execute(query)\n",
    "        result = c.fetchall()\n",
    "    else:\n",
    "        query = query + \" WHERE year = {0}\".format(year)\n",
    "        print(query)\n",
    "        c.execute(query)\n",
    "        result = c.fetchall()    \n",
    "    connection.commit()\n",
    "    return result\n",
    "\n",
    "\n",
    "@anvil.server.callable\n",
    "def stock_performance():\n",
    "    pass\n",
    "\n",
    "@anvil.server.callable\n",
    "def news():\n",
    "    pass\n"
   ]
  },
  {
   "cell_type": "code",
   "execution_count": 13,
   "metadata": {},
   "outputs": [
    {
     "name": "stdout",
     "output_type": "stream",
     "text": [
      "SELECT year, revenue FROM annual_income_statement_amazon WHERE year = 2020\n",
      "2020\n",
      "2019\n",
      "SELECT revenue FROM annual_income_statement_bestbuy WHERE year = 2019\n",
      "2020\n",
      "SELECT revenue FROM annual_income_statement_amazon WHERE year = 2020\n"
     ]
    }
   ],
   "source": [
    "#create database\n",
    "connection = sqlite3.connect('stocks.db', check_same_thread=False)\n",
    "#create cursor instance\n",
    "c = connection.cursor()\n",
    "query = \"SELECT year, revenue FROM annual_income_statement_{0}\".format('amazon')\n",
    "query = query + \" WHERE year = {0}\".format('2020')\n",
    "print(query)\n",
    "c.execute(query)\n",
    "result = c.fetchall()    \n",
    "\n",
    "print(result[0][0])\n"
   ]
  },
  {
   "cell_type": "code",
   "execution_count": null,
   "metadata": {},
   "outputs": [],
   "source": []
  }
 ],
 "metadata": {
  "kernelspec": {
   "display_name": "Python 3",
   "language": "python",
   "name": "python3"
  },
  "language_info": {
   "codemirror_mode": {
    "name": "ipython",
    "version": 3
   },
   "file_extension": ".py",
   "mimetype": "text/x-python",
   "name": "python",
   "nbconvert_exporter": "python",
   "pygments_lexer": "ipython3",
   "version": "3.8.5"
  }
 },
 "nbformat": 4,
 "nbformat_minor": 4
}
