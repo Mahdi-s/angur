{
 "cells": [
  {
   "cell_type": "code",
   "execution_count": 28,
   "metadata": {},
   "outputs": [],
   "source": [
    "import math\n",
    "import pandas_datareader as web\n",
    "import numpy as np\n",
    "import pandas as pd\n",
    "from pandas import DataFrame\n",
    "import matplotlib.pyplot as plt\n",
    "from datetime import datetime, timedelta\n",
    "import urllib.request\n",
    "import re\n",
    "import anvil.mpl_util\n",
    "import sqlite3"
   ]
  },
  {
   "cell_type": "code",
   "execution_count": 29,
   "metadata": {},
   "outputs": [],
   "source": [
    "import anvil.server\n",
    "anvil.server.connect(\"L2BCBDUVFH3TVGLN5T6GUD4A-YRRXCIBEM56NA64X\")"
   ]
  },
  {
   "cell_type": "code",
   "execution_count": 30,
   "metadata": {},
   "outputs": [],
   "source": [
    "import anvil.media\n",
    "\n",
    "\n",
    "\n",
    "@anvil.server.callable\n",
    "def incomedata(stock, year, option):\n",
    "    #create database\n",
    "    connection = sqlite3.connect('stocks.db', check_same_thread=False)\n",
    "    #create cursor instance\n",
    "    c = connection.cursor()\n",
    "    query = \"SELECT year, {0} FROM annual_income_statement_\".format(option)\n",
    "    query = query +\"{0}\".format(stock)\n",
    "    if year == 'All':\n",
    "        c.execute(query)\n",
    "        result = c.fetchall()          \n",
    "    else:\n",
    "        query = query + \" WHERE year = {0}\".format(year)\n",
    "        c.execute(query)\n",
    "        result = c.fetchall()    \n",
    "    connection.commit()\n",
    "    connection.close()\n",
    "    return result\n",
    "\n",
    "    \n",
    "\n",
    "@anvil.server.callable\n",
    "def stock_performance(stock, option):\n",
    "    plt. clf()\n",
    "    #create database\n",
    "    graphName = '{0} History from 2019-2021'.format(option)\n",
    "    connection = sqlite3.connect('stocks.db', check_same_thread=False)\n",
    "    #create cursor instance\n",
    "    c = connection.cursor()\n",
    "    query = \"SELECT date, {0} FROM market_historical_data_\".format(option)\n",
    "    query = query +\"{0}\".format(stock)\n",
    "    c.execute(query)\n",
    "    result = c.fetchall()          \n",
    "    df = DataFrame(result,columns=['date',str(option)])\n",
    "    plt.title(graphName)\n",
    "    plt.xlabel('Date', fontsize=18)\n",
    "    plt.ylabel(str(option), fontsize=18)\n",
    "    plt.plot(df[str(option)])    \n",
    "    connection.commit()\n",
    "   # connection.close()\n",
    "    return anvil.mpl_util.plot_image()\n",
    "\n",
    "@anvil.server.callable\n",
    "def stock_list(user_email,stock):\n",
    "    connection = sqlite3.connect('stocks.db', check_same_thread=False)\n",
    "    #create cursor instance\n",
    "    c = connection.cursor()\n",
    "    rows = [user_email,stock] \n",
    "    query = \"INSERT INTO user_portfolio VALUES (?,?)\"\n",
    "    c.execute(query , rows)   \n",
    "    connection.commit()\n",
    "    \n",
    "    \n",
    "\n",
    "@anvil.server.callable\n",
    "def get_stock_list(user_email):\n",
    "    connection = sqlite3.connect('stocks.db', check_same_thread=False)\n",
    "    #create cursor instance\n",
    "    c = connection.cursor()\n",
    "    query = \"SELECT ticker_list FROM user_portfolio WHERE user_email = \\'{0}\\'\".format(user_email)\n",
    "    c.execute(query)   \n",
    "    result = c.fetchall()\n",
    "    connection.commit()\n",
    "    return result\n",
    "\n",
    "\n",
    "@anvil.server.callable\n",
    "def news(stock):\n",
    "    urls = []\n",
    "    connection = sqlite3.connect('stocks.db', check_same_thread=False)\n",
    "    #create cursor instance\n",
    "    c = connection.cursor()\n",
    "    query = \"SELECT url FROM article_list WHERE comapany = \\'{0}\\'\".format(stock)\n",
    "    c.execute(query)   \n",
    "    result = c.fetchall()\n",
    "    connection.commit()\n",
    "    return result    \n"
   ]
  },
  {
   "cell_type": "code",
   "execution_count": 31,
   "metadata": {},
   "outputs": [
    {
     "name": "stdout",
     "output_type": "stream",
     "text": [
      "[('https://www.dallasnews.com/business/retail/2021/05/03/would-you-pay-200-for-a-membership-to-best-buy/',), ('https://www.chattanoogan.com/2021/5/3/427704/Best-Buy-Metals-Opens-New-Showroom-In.aspx',), ('https://www.bloomberg.com/news/articles/2021-04-29/best-buy-president-coo-mohan-to-depart-no-replacement-planned',)]\n"
     ]
    }
   ],
   "source": [
    "user_email = 'sample@sample.com'\n",
    "connection = sqlite3.connect('stocks.db', check_same_thread=False)\n",
    "#create cursor instance\n",
    "c = connection.cursor()\n",
    "query = \"SELECT url FROM article_list WHERE comapany = \\'bestbuy\\'\"\n",
    "c.execute(query)  \n",
    "result = c.fetchall()\n",
    "connection.commit()\n",
    "print(result)\n",
    "urls = []\n",
    "for item in result:\n",
    "    urls.append(item)\n",
    "#for s in urls:\n",
    "    #print(s)\n",
    "#print(urls)"
   ]
  },
  {
   "cell_type": "code",
   "execution_count": null,
   "metadata": {},
   "outputs": [],
   "source": []
  },
  {
   "cell_type": "code",
   "execution_count": null,
   "metadata": {},
   "outputs": [],
   "source": []
  }
 ],
 "metadata": {
  "kernelspec": {
   "display_name": "Python 3",
   "language": "python",
   "name": "python3"
  },
  "language_info": {
   "codemirror_mode": {
    "name": "ipython",
    "version": 3
   },
   "file_extension": ".py",
   "mimetype": "text/x-python",
   "name": "python",
   "nbconvert_exporter": "python",
   "pygments_lexer": "ipython3",
   "version": "3.8.5"
  }
 },
 "nbformat": 4,
 "nbformat_minor": 4
}
